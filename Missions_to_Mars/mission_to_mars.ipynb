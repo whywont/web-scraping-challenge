{
 "cells": [
  {
   "cell_type": "code",
   "execution_count": 1,
   "metadata": {},
   "outputs": [
    {
     "name": "stderr",
     "output_type": "stream",
     "text": [
      "[WDM] - \n",
      "\n",
      "[WDM] - ====== WebDriver manager ======\n",
      "[WDM] - Current google-chrome version is 95.0.4638\n",
      "[WDM] - Get LATEST driver version for 95.0.4638\n",
      "[WDM] - Driver [C:\\Users\\Andrew\\.wdm\\drivers\\chromedriver\\win32\\95.0.4638.69\\chromedriver.exe] found in cache\n"
     ]
    }
   ],
   "source": [
    "from bs4 import BeautifulSoup as bs\n",
    "import pymongo\n",
    "from splinter import Browser\n",
    "from webdriver_manager.chrome import ChromeDriverManager  \n",
    "import pandas as pd\n",
    "\n",
    "executable_path = {'executable_path': ChromeDriverManager().install()}\n",
    "browser = Browser('chrome', **executable_path, headless=False)"
   ]
  },
  {
   "cell_type": "code",
   "execution_count": 2,
   "metadata": {},
   "outputs": [],
   "source": [
    "#Chromedriver getting browser\n",
    "url = 'https://redplanetscience.com/'\n",
    "browser.visit(url)"
   ]
  },
  {
   "cell_type": "code",
   "execution_count": 3,
   "metadata": {},
   "outputs": [],
   "source": [
    "#Scrape using soup\n",
    "html = browser.html\n",
    "soup = bs(html, 'html.parser')"
   ]
  },
  {
   "cell_type": "code",
   "execution_count": 4,
   "metadata": {},
   "outputs": [
    {
     "name": "stdout",
     "output_type": "stream",
     "text": [
      "NASA's Mars Reconnaissance Orbiter Undergoes Memory Update\n",
      "Other orbiters will continue relaying data from Mars surface missions for a two-week period.\n"
     ]
    }
   ],
   "source": [
    "#Getting html content\n",
    "title = soup.find('div', class_= 'content_title').text\n",
    "desc = soup.find('div', class_ = 'article_teaser_body').text\n",
    "print(title)\n",
    "print(desc)"
   ]
  },
  {
   "cell_type": "code",
   "execution_count": 5,
   "metadata": {},
   "outputs": [],
   "source": [
    "url_space = 'https://spaceimages-mars.com/'\n",
    "browser.visit(url_space)"
   ]
  },
  {
   "cell_type": "code",
   "execution_count": 6,
   "metadata": {},
   "outputs": [],
   "source": [
    "html = browser.html\n",
    "soup = bs(html, 'html.parser')"
   ]
  },
  {
   "cell_type": "code",
   "execution_count": 7,
   "metadata": {},
   "outputs": [
    {
     "name": "stdout",
     "output_type": "stream",
     "text": [
      "https://spaceimages-mars.com/image/featured/mars2.jpg\n"
     ]
    }
   ],
   "source": [
    "#Getting image source\n",
    "featured_image_src = soup.find('img', class_ = 'headerimage fade-in')['src']\n",
    "featured_image = url_space + featured_image_src\n",
    "print(featured_image)"
   ]
  },
  {
   "cell_type": "code",
   "execution_count": 8,
   "metadata": {},
   "outputs": [
    {
     "data": {
      "text/plain": [
       "[                         0                1                2\n",
       " 0  Mars - Earth Comparison             Mars            Earth\n",
       " 1                Diameter:         6,779 km        12,742 km\n",
       " 2                    Mass:  6.39 × 10^23 kg  5.97 × 10^24 kg\n",
       " 3                   Moons:                2                1\n",
       " 4       Distance from Sun:   227,943,824 km   149,598,262 km\n",
       " 5          Length of Year:   687 Earth days      365.24 days\n",
       " 6             Temperature:     -87 to -5 °C      -88 to 58°C,\n",
       "                       0                              1\n",
       " 0  Equatorial Diameter:                       6,792 km\n",
       " 1       Polar Diameter:                       6,752 km\n",
       " 2                 Mass:  6.39 × 10^23 kg (0.11 Earths)\n",
       " 3                Moons:          2 ( Phobos & Deimos )\n",
       " 4       Orbit Distance:       227,943,824 km (1.38 AU)\n",
       " 5         Orbit Period:           687 days (1.9 years)\n",
       " 6  Surface Temperature:                   -87 to -5 °C\n",
       " 7         First Record:              2nd millennium BC\n",
       " 8          Recorded By:           Egyptian astronomers]"
      ]
     },
     "execution_count": 8,
     "metadata": {},
     "output_type": "execute_result"
    }
   ],
   "source": [
    "#Use Pandas to read source table\n",
    "url_table = 'https://galaxyfacts-mars.com/'\n",
    "table = pd.read_html(url_table)\n",
    "table"
   ]
  },
  {
   "cell_type": "code",
   "execution_count": 9,
   "metadata": {},
   "outputs": [],
   "source": [
    "#Get table in Df and clean it\n",
    "non_transposed = table[0]\n",
    "normal_table = non_transposed.rename(columns= non_transposed.iloc[0])\n",
    "mars_table = normal_table.drop([0]).copy()"
   ]
  },
  {
   "cell_type": "code",
   "execution_count": 6,
   "metadata": {},
   "outputs": [
    {
     "data": {
      "text/html": [
       "<style  type=\"text/css\" >\n",
       "</style><table id=\"T_4c575088_40e1_11ec_84b0_2cf05d218393\" ><thead>    <tr>        <th class=\"col_heading level0 col0\" >Mars - Earth Comparison</th>        <th class=\"col_heading level0 col1\" >Mars</th>        <th class=\"col_heading level0 col2\" >Earth</th>    </tr></thead><tbody>\n",
       "                <tr>\n",
       "                                <td id=\"T_4c575088_40e1_11ec_84b0_2cf05d218393row0_col0\" class=\"data row0 col0\" >Diameter:</td>\n",
       "                        <td id=\"T_4c575088_40e1_11ec_84b0_2cf05d218393row0_col1\" class=\"data row0 col1\" >6,779 km</td>\n",
       "                        <td id=\"T_4c575088_40e1_11ec_84b0_2cf05d218393row0_col2\" class=\"data row0 col2\" >12,742 km</td>\n",
       "            </tr>\n",
       "            <tr>\n",
       "                                <td id=\"T_4c575088_40e1_11ec_84b0_2cf05d218393row1_col0\" class=\"data row1 col0\" >Mass:</td>\n",
       "                        <td id=\"T_4c575088_40e1_11ec_84b0_2cf05d218393row1_col1\" class=\"data row1 col1\" >6.39 × 10^23 kg</td>\n",
       "                        <td id=\"T_4c575088_40e1_11ec_84b0_2cf05d218393row1_col2\" class=\"data row1 col2\" >5.97 × 10^24 kg</td>\n",
       "            </tr>\n",
       "            <tr>\n",
       "                                <td id=\"T_4c575088_40e1_11ec_84b0_2cf05d218393row2_col0\" class=\"data row2 col0\" >Moons:</td>\n",
       "                        <td id=\"T_4c575088_40e1_11ec_84b0_2cf05d218393row2_col1\" class=\"data row2 col1\" >2</td>\n",
       "                        <td id=\"T_4c575088_40e1_11ec_84b0_2cf05d218393row2_col2\" class=\"data row2 col2\" >1</td>\n",
       "            </tr>\n",
       "            <tr>\n",
       "                                <td id=\"T_4c575088_40e1_11ec_84b0_2cf05d218393row3_col0\" class=\"data row3 col0\" >Distance from Sun:</td>\n",
       "                        <td id=\"T_4c575088_40e1_11ec_84b0_2cf05d218393row3_col1\" class=\"data row3 col1\" >227,943,824 km</td>\n",
       "                        <td id=\"T_4c575088_40e1_11ec_84b0_2cf05d218393row3_col2\" class=\"data row3 col2\" >149,598,262 km</td>\n",
       "            </tr>\n",
       "            <tr>\n",
       "                                <td id=\"T_4c575088_40e1_11ec_84b0_2cf05d218393row4_col0\" class=\"data row4 col0\" >Length of Year:</td>\n",
       "                        <td id=\"T_4c575088_40e1_11ec_84b0_2cf05d218393row4_col1\" class=\"data row4 col1\" >687 Earth days</td>\n",
       "                        <td id=\"T_4c575088_40e1_11ec_84b0_2cf05d218393row4_col2\" class=\"data row4 col2\" >365.24 days</td>\n",
       "            </tr>\n",
       "            <tr>\n",
       "                                <td id=\"T_4c575088_40e1_11ec_84b0_2cf05d218393row5_col0\" class=\"data row5 col0\" >Temperature:</td>\n",
       "                        <td id=\"T_4c575088_40e1_11ec_84b0_2cf05d218393row5_col1\" class=\"data row5 col1\" >-87 to -5 °C</td>\n",
       "                        <td id=\"T_4c575088_40e1_11ec_84b0_2cf05d218393row5_col2\" class=\"data row5 col2\" >-88 to 58°C</td>\n",
       "            </tr>\n",
       "    </tbody></table>"
      ],
      "text/plain": [
       "<pandas.io.formats.style.Styler at 0x1f8360a3978>"
      ]
     },
     "execution_count": 6,
     "metadata": {},
     "output_type": "execute_result"
    }
   ],
   "source": [
    "#Hide index, unfortunately this doesn't work when using to_html()\n",
    "mars_earth_table = mars_table.style.hide_index()\n",
    "mars_earth_table"
   ]
  },
  {
   "cell_type": "code",
   "execution_count": 10,
   "metadata": {},
   "outputs": [
    {
     "data": {
      "text/plain": [
       "'<table border=\"1\" class=\"dataframe\">\\n  <thead>\\n    <tr style=\"text-align: right;\">\\n      <th></th>\\n      <th>Mars - Earth Comparison</th>\\n      <th>Mars</th>\\n      <th>Earth</th>\\n    </tr>\\n  </thead>\\n  <tbody>\\n    <tr>\\n      <th>1</th>\\n      <td>Diameter:</td>\\n      <td>6,779 km</td>\\n      <td>12,742 km</td>\\n    </tr>\\n    <tr>\\n      <th>2</th>\\n      <td>Mass:</td>\\n      <td>6.39 × 10^23 kg</td>\\n      <td>5.97 × 10^24 kg</td>\\n    </tr>\\n    <tr>\\n      <th>3</th>\\n      <td>Moons:</td>\\n      <td>2</td>\\n      <td>1</td>\\n    </tr>\\n    <tr>\\n      <th>4</th>\\n      <td>Distance from Sun:</td>\\n      <td>227,943,824 km</td>\\n      <td>149,598,262 km</td>\\n    </tr>\\n    <tr>\\n      <th>5</th>\\n      <td>Length of Year:</td>\\n      <td>687 Earth days</td>\\n      <td>365.24 days</td>\\n    </tr>\\n    <tr>\\n      <th>6</th>\\n      <td>Temperature:</td>\\n      <td>-87 to -5 °C</td>\\n      <td>-88 to 58°C</td>\\n    </tr>\\n  </tbody>\\n</table>'"
      ]
     },
     "execution_count": 10,
     "metadata": {},
     "output_type": "execute_result"
    }
   ],
   "source": [
    "#transform to html\n",
    "mars_html = mars_table.to_html()\n",
    "mars_html"
   ]
  },
  {
   "cell_type": "code",
   "execution_count": 11,
   "metadata": {},
   "outputs": [
    {
     "data": {
      "text/html": [
       "<div>\n",
       "<style scoped>\n",
       "    .dataframe tbody tr th:only-of-type {\n",
       "        vertical-align: middle;\n",
       "    }\n",
       "\n",
       "    .dataframe tbody tr th {\n",
       "        vertical-align: top;\n",
       "    }\n",
       "\n",
       "    .dataframe thead th {\n",
       "        text-align: right;\n",
       "    }\n",
       "</style>\n",
       "<table border=\"1\" class=\"dataframe\">\n",
       "  <thead>\n",
       "    <tr style=\"text-align: right;\">\n",
       "      <th></th>\n",
       "      <th>Mars - Earth Comparison</th>\n",
       "      <th>Diameter:</th>\n",
       "      <th>Mass:</th>\n",
       "      <th>Moons:</th>\n",
       "      <th>Distance from Sun:</th>\n",
       "      <th>Length of Year:</th>\n",
       "      <th>Temperature:</th>\n",
       "    </tr>\n",
       "  </thead>\n",
       "  <tbody>\n",
       "    <tr>\n",
       "      <th>0</th>\n",
       "      <td>Mars - Earth Comparison</td>\n",
       "      <td>Diameter:</td>\n",
       "      <td>Mass:</td>\n",
       "      <td>Moons:</td>\n",
       "      <td>Distance from Sun:</td>\n",
       "      <td>Length of Year:</td>\n",
       "      <td>Temperature:</td>\n",
       "    </tr>\n",
       "    <tr>\n",
       "      <th>1</th>\n",
       "      <td>Mars</td>\n",
       "      <td>6,779 km</td>\n",
       "      <td>6.39 × 10^23 kg</td>\n",
       "      <td>2</td>\n",
       "      <td>227,943,824 km</td>\n",
       "      <td>687 Earth days</td>\n",
       "      <td>-87 to -5 °C</td>\n",
       "    </tr>\n",
       "    <tr>\n",
       "      <th>2</th>\n",
       "      <td>Earth</td>\n",
       "      <td>12,742 km</td>\n",
       "      <td>5.97 × 10^24 kg</td>\n",
       "      <td>1</td>\n",
       "      <td>149,598,262 km</td>\n",
       "      <td>365.24 days</td>\n",
       "      <td>-88 to 58°C</td>\n",
       "    </tr>\n",
       "  </tbody>\n",
       "</table>\n",
       "</div>"
      ],
      "text/plain": [
       "   Mars - Earth Comparison  Diameter:            Mass:  Moons:  \\\n",
       "0  Mars - Earth Comparison  Diameter:            Mass:  Moons:   \n",
       "1                     Mars   6,779 km  6.39 × 10^23 kg       2   \n",
       "2                    Earth  12,742 km  5.97 × 10^24 kg       1   \n",
       "\n",
       "   Distance from Sun:  Length of Year:  Temperature:  \n",
       "0  Distance from Sun:  Length of Year:  Temperature:  \n",
       "1      227,943,824 km   687 Earth days  -87 to -5 °C  \n",
       "2      149,598,262 km      365.24 days   -88 to 58°C  "
      ]
     },
     "execution_count": 11,
     "metadata": {},
     "output_type": "execute_result"
    }
   ],
   "source": [
    "#cllean and transpose\n",
    "df = table[0]\n",
    "df.head()\n",
    "df = df.transpose()\n",
    "table_df = df.rename(columns=df.iloc[0])\n",
    "table_df"
   ]
  },
  {
   "cell_type": "code",
   "execution_count": 12,
   "metadata": {},
   "outputs": [],
   "source": [
    "#drop first row\n",
    "table_df = table_df.drop([0])"
   ]
  },
  {
   "cell_type": "code",
   "execution_count": 13,
   "metadata": {},
   "outputs": [
    {
     "data": {
      "text/html": [
       "<div>\n",
       "<style scoped>\n",
       "    .dataframe tbody tr th:only-of-type {\n",
       "        vertical-align: middle;\n",
       "    }\n",
       "\n",
       "    .dataframe tbody tr th {\n",
       "        vertical-align: top;\n",
       "    }\n",
       "\n",
       "    .dataframe thead th {\n",
       "        text-align: right;\n",
       "    }\n",
       "</style>\n",
       "<table border=\"1\" class=\"dataframe\">\n",
       "  <thead>\n",
       "    <tr style=\"text-align: right;\">\n",
       "      <th></th>\n",
       "      <th>Mars - Earth Comparison</th>\n",
       "      <th>Diameter:</th>\n",
       "      <th>Mass:</th>\n",
       "      <th>Moons:</th>\n",
       "      <th>Distance from Sun:</th>\n",
       "      <th>Length of Year:</th>\n",
       "      <th>Temperature:</th>\n",
       "    </tr>\n",
       "  </thead>\n",
       "  <tbody>\n",
       "    <tr>\n",
       "      <th>1</th>\n",
       "      <td>Mars</td>\n",
       "      <td>6,779 km</td>\n",
       "      <td>6.39 × 10^23 kg</td>\n",
       "      <td>2</td>\n",
       "      <td>227,943,824 km</td>\n",
       "      <td>687 Earth days</td>\n",
       "      <td>-87 to -5 °C</td>\n",
       "    </tr>\n",
       "    <tr>\n",
       "      <th>2</th>\n",
       "      <td>Earth</td>\n",
       "      <td>12,742 km</td>\n",
       "      <td>5.97 × 10^24 kg</td>\n",
       "      <td>1</td>\n",
       "      <td>149,598,262 km</td>\n",
       "      <td>365.24 days</td>\n",
       "      <td>-88 to 58°C</td>\n",
       "    </tr>\n",
       "  </tbody>\n",
       "</table>\n",
       "</div>"
      ],
      "text/plain": [
       "  Mars - Earth Comparison  Diameter:            Mass: Moons:  \\\n",
       "1                    Mars   6,779 km  6.39 × 10^23 kg      2   \n",
       "2                   Earth  12,742 km  5.97 × 10^24 kg      1   \n",
       "\n",
       "  Distance from Sun: Length of Year:  Temperature:  \n",
       "1     227,943,824 km  687 Earth days  -87 to -5 °C  \n",
       "2     149,598,262 km     365.24 days   -88 to 58°C  "
      ]
     },
     "execution_count": 13,
     "metadata": {},
     "output_type": "execute_result"
    }
   ],
   "source": [
    "table_df"
   ]
  },
  {
   "cell_type": "code",
   "execution_count": 14,
   "metadata": {},
   "outputs": [
    {
     "data": {
      "text/plain": [
       "'<table border=\"1\" class=\"dataframe\">\\n  <thead>\\n    <tr style=\"text-align: right;\">\\n      <th></th>\\n      <th>Mars - Earth Comparison</th>\\n      <th>Diameter:</th>\\n      <th>Mass:</th>\\n      <th>Moons:</th>\\n      <th>Distance from Sun:</th>\\n      <th>Length of Year:</th>\\n      <th>Temperature:</th>\\n    </tr>\\n  </thead>\\n  <tbody>\\n    <tr>\\n      <th>1</th>\\n      <td>Mars</td>\\n      <td>6,779 km</td>\\n      <td>6.39 × 10^23 kg</td>\\n      <td>2</td>\\n      <td>227,943,824 km</td>\\n      <td>687 Earth days</td>\\n      <td>-87 to -5 °C</td>\\n    </tr>\\n    <tr>\\n      <th>2</th>\\n      <td>Earth</td>\\n      <td>12,742 km</td>\\n      <td>5.97 × 10^24 kg</td>\\n      <td>1</td>\\n      <td>149,598,262 km</td>\\n      <td>365.24 days</td>\\n      <td>-88 to 58°C</td>\\n    </tr>\\n  </tbody>\\n</table>'"
      ]
     },
     "execution_count": 14,
     "metadata": {},
     "output_type": "execute_result"
    }
   ],
   "source": [
    "html_table = table_df.to_html()\n",
    "html_table"
   ]
  },
  {
   "cell_type": "code",
   "execution_count": 15,
   "metadata": {},
   "outputs": [],
   "source": [
    "url_hemi = 'https://marshemispheres.com/'\n",
    "browser.visit(url_hemi)"
   ]
  },
  {
   "cell_type": "code",
   "execution_count": 16,
   "metadata": {},
   "outputs": [],
   "source": [
    "html = browser.html\n",
    "soup = bs(html, 'html.parser')"
   ]
  },
  {
   "cell_type": "code",
   "execution_count": 17,
   "metadata": {},
   "outputs": [],
   "source": [
    "#find all hmtl content in div class item\n",
    "tests = soup.find_all('div', class_='item')\n",
    "\n",
    "hemisphere_imgs = []\n",
    "#find links/image titles and use chrome.browser to click each link. Once clicked, call scrape function again and scrape\n",
    "#new page for image url. Combine img url with home url and append to dictionary then append to list.\n",
    "for test in tests:\n",
    "    title = test.find('h3').text\n",
    "    browser.links.find_by_partial_text(title).click()\n",
    "    \n",
    "    html_link = browser.html\n",
    "    soup_link = bs(html_link, 'html.parser')\n",
    "    \n",
    "    img_scr = soup_link.find('img', class_ = 'wide-image')['src']\n",
    "    img_scr_full = url_hemi + img_scr\n",
    "    \n",
    "    links = {}\n",
    "    links['title'] = title\n",
    "    links['img_url'] = img_scr_full\n",
    "    \n",
    "    browser.back()\n",
    "    hemisphere_imgs.append(links)\n",
    "    \n",
    "hemisphere_imgs\n",
    "browser.quit()    "
   ]
  }
 ],
 "metadata": {
  "kernelspec": {
   "display_name": "Python 3",
   "language": "python",
   "name": "python3"
  },
  "language_info": {
   "codemirror_mode": {
    "name": "ipython",
    "version": 3
   },
   "file_extension": ".py",
   "mimetype": "text/x-python",
   "name": "python",
   "nbconvert_exporter": "python",
   "pygments_lexer": "ipython3",
   "version": "3.6.10"
  }
 },
 "nbformat": 4,
 "nbformat_minor": 4
}
